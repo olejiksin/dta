{
 "cells": [
  {
   "cell_type": "code",
   "execution_count": 1,
   "metadata": {},
   "outputs": [
    {
     "name": "stderr",
     "output_type": "stream",
     "text": [
      "D:\\Users\\oleji\\Anaconda3\\lib\\site-packages\\statsmodels\\tools\\_testing.py:19: FutureWarning: pandas.util.testing is deprecated. Use the functions in the public API at pandas.testing instead.\n",
      "  import pandas.util.testing as tm\n",
      "D:\\Users\\oleji\\Anaconda3\\lib\\site-packages\\statsmodels\\compat\\pandas.py:23: FutureWarning: The Panel class is removed from pandas. Accessing it from the top-level namespace will also be removed in the next version\n",
      "  data_klasses = (pandas.Series, pandas.DataFrame, pandas.Panel)\n"
     ]
    },
    {
     "ename": "ModuleNotFoundError",
     "evalue": "No module named 'fbprophet'",
     "output_type": "error",
     "traceback": [
      "\u001b[1;31m---------------------------------------------------------------------------\u001b[0m",
      "\u001b[1;31mModuleNotFoundError\u001b[0m                       Traceback (most recent call last)",
      "\u001b[1;32m<ipython-input-1-eecdf0ed6078>\u001b[0m in \u001b[0;36m<module>\u001b[1;34m\u001b[0m\n\u001b[0;32m     14\u001b[0m \u001b[1;33m\u001b[0m\u001b[0m\n\u001b[0;32m     15\u001b[0m \u001b[0mget_ipython\u001b[0m\u001b[1;33m(\u001b[0m\u001b[1;33m)\u001b[0m\u001b[1;33m.\u001b[0m\u001b[0mrun_line_magic\u001b[0m\u001b[1;33m(\u001b[0m\u001b[1;34m'matplotlib'\u001b[0m\u001b[1;33m,\u001b[0m \u001b[1;34m'inline'\u001b[0m\u001b[1;33m)\u001b[0m\u001b[1;33m\u001b[0m\u001b[1;33m\u001b[0m\u001b[0m\n\u001b[1;32m---> 16\u001b[1;33m \u001b[1;32mfrom\u001b[0m \u001b[0mfbprophet\u001b[0m \u001b[1;32mimport\u001b[0m \u001b[0mProphet\u001b[0m\u001b[1;33m\u001b[0m\u001b[1;33m\u001b[0m\u001b[0m\n\u001b[0m\u001b[0;32m     17\u001b[0m \u001b[1;32mimport\u001b[0m \u001b[0mlogging\u001b[0m\u001b[1;33m\u001b[0m\u001b[1;33m\u001b[0m\u001b[0m\n\u001b[0;32m     18\u001b[0m \u001b[0mlogging\u001b[0m\u001b[1;33m.\u001b[0m\u001b[0mgetLogger\u001b[0m\u001b[1;33m(\u001b[0m\u001b[1;34m'fbprophet'\u001b[0m\u001b[1;33m)\u001b[0m\u001b[1;33m.\u001b[0m\u001b[0msetLevel\u001b[0m\u001b[1;33m(\u001b[0m\u001b[0mlogging\u001b[0m\u001b[1;33m.\u001b[0m\u001b[0mERROR\u001b[0m\u001b[1;33m)\u001b[0m\u001b[1;33m\u001b[0m\u001b[1;33m\u001b[0m\u001b[0m\n",
      "\u001b[1;31mModuleNotFoundError\u001b[0m: No module named 'fbprophet'"
     ]
    }
   ],
   "source": [
    "import numpy as np\n",
    "from datetime import datetime, timedelta\n",
    "import matplotlib.pyplot as plt\n",
    "from matplotlib import gridspec\n",
    "import pandas as pd\n",
    "import math\n",
    "import pandas.tseries.offsets as ofs\n",
    "from scipy import stats\n",
    "import statsmodels.api as sm\n",
    "from statsmodels.tsa import stattools\n",
    "\n",
    "import warnings as w\n",
    "import plotly as py\n",
    "\n",
    "%matplotlib inline\n",
    "from fbprophet import Prophet\n",
    "import logging\n",
    "logging.getLogger('fbprophet').setLevel(logging.ERROR)\n",
    "import warnings\n",
    "warnings.filterwarnings(\"ignore\")"
   ]
  },
  {
   "cell_type": "code",
   "execution_count": null,
   "metadata": {},
   "outputs": [],
   "source": [
    "ts= pd.read_csv('../facebook/set.csv')\n",
    "ts.info\n"
   ]
  },
  {
   "cell_type": "code",
   "execution_count": null,
   "metadata": {},
   "outputs": [],
   "source": [
    "ts.head()\n"
   ]
  },
  {
   "cell_type": "code",
   "execution_count": null,
   "metadata": {},
   "outputs": [],
   "source": [
    "ts.head(950)\n"
   ]
  },
  {
   "cell_type": "markdown",
   "metadata": {},
   "source": [
    "Есть интервалы с пропущенными значениями. Перенесем их в другую переменную"
   ]
  },
  {
   "cell_type": "code",
   "execution_count": null,
   "metadata": {},
   "outputs": [],
   "source": [
    "ts.index = pd.to_datetime(ts['ds'])\n",
    "\n",
    "ts = pd.read_csv('dataset1_with_outliers_data.csv')\n",
    "ts.index = pd.to_datetime(ts['ds'])\n",
    "ts.sort_index(inplace=True)\n",
    "\n",
    "ts_test = ts[datetime(2015,1,1):]\n",
    "\n",
    "ts_full = ts[:datetime(2015,1,1)]\n",
    "ts_no_outs = ts_full[datetime(2012, 1,1):]"
   ]
  },
  {
   "cell_type": "code",
   "execution_count": null,
   "metadata": {},
   "outputs": [],
   "source": [
    "ts_full.plot(figsize=(15,5))\n"
   ]
  },
  {
   "cell_type": "code",
   "execution_count": null,
   "metadata": {},
   "outputs": [],
   "source": [
    "ts_full.plot(figsize=(15,5))\n"
   ]
  },
  {
   "cell_type": "markdown",
   "metadata": {},
   "source": [
    "Проверить ряд на стационарность (например, с помощью критерия Дики-Фуллера). Попробуйте привести его к стационарному виду (с помощью преобразования Бокса-Кокса, дифференцирования etc.) После получения стационарного ряда напишите функцию прямой transform и обратной inv_transform трансформации временного ряда (т.е. исходный ряд -> стационарный ряд и стационарный ряд -> исходный ряд)."
   ]
  },
  {
   "cell_type": "code",
   "execution_count": null,
   "metadata": {},
   "outputs": [],
   "source": [
    "print(\" Критерий Дики-Фуллера: p=%f\" % sm.tsa.stattools.adfuller(ts_no_outs['y'])[1])\n"
   ]
  },
  {
   "cell_type": "code",
   "execution_count": null,
   "metadata": {},
   "outputs": [],
   "source": [
    "def transform(df):\n",
    "    plt.figure(figsize=(15,10))\n",
    "    sm.tsa.seasonal_decompose(df['y'], freq = 30).plot()\n",
    "    print(\" Критерий Дики-Фуллера: p=%f\" % sm.tsa.stattools.adfuller(df['y'])[1])"
   ]
  },
  {
   "cell_type": "markdown",
   "metadata": {},
   "source": [
    "С помощью экспоненциального сглаживания найдите выбросы в данных (и попробуйте их сгладить). Для этого подберите оптимальные значения параметров alpha, beta и std_window. Функция для детекции аномалий и сглаживания приведена ниже. Обратите внимание, мы работаем лишь с ts_train, тестовый датасет ts_test \"находится в будущем\" и нам недоступен."
   ]
  },
  {
   "cell_type": "code",
   "execution_count": null,
   "metadata": {},
   "outputs": [],
   "source": [
    "def exponential_smoothing_anomaly_filter(series, alpha, beta=2.5, std_window=10):\n",
    "\n",
    "\n",
    "\n",
    "    result = [series[0]] # first value is same as series\n",
    "    sx = series.rolling(std_window).std()\n",
    "    anomalies_index = []\n",
    "    anomalies_values = []\n",
    "    for n in range(1, len(series)):\n",
    "        if n > std_window:\n",
    "            if abs(series[n] - result[n-1]) > sx[n]*beta:\n",
    "                result.append(result[n-1])\n",
    "                anomalies_index.append(series.index[n])\n",
    "                anomalies_values.append(series[n])\n",
    "                continue\n",
    "        result.append(alpha * series[n] + (1 - alpha) * result[n-1])\n",
    "    return pd.Series(index=series.index, data=result), pd.Series(index=anomalies_index, data=anomalies_values)\n",
    "ts_no_outs['ty'], ts_no_outs['ay'] = exponential_smoothing_anomaly_filter(ts_no_outs['y'], 0.35, 1.5, 29)\n",
    "dk = sm.tsa.stattools.adfuller(ts_no_outs['ty'])[1]\n",
    "dk"
   ]
  },
  {
   "cell_type": "code",
   "execution_count": null,
   "metadata": {},
   "outputs": [],
   "source": [
    "plt.figure(figsize=(25,10))\n",
    "ts_no_outs['ty'].plot()\n",
    "print(\" Критерий Дики-Фуллера: p=%f\" % dk)\n"
   ]
  },
  {
   "cell_type": "markdown",
   "metadata": {},
   "source": [
    "# Прогнозы с помощью facebook prophet"
   ]
  },
  {
   "cell_type": "code",
   "execution_count": null,
   "metadata": {},
   "outputs": [],
   "source": [
    "from fbprophet import Prophet\n",
    "import logging\n",
    "logging.getLogger('fbprophet').setLevel(logging.ERROR)\n",
    "import warnings\n",
    "warnings.filterwarnings(\"ignore\")\n",
    "fmodel = Prophet()\n",
    "\n",
    "\n",
    "fmodel.fit(ts_no_outs)\n",
    "future = fmodel.make_future_dataframe(periods=365)\n",
    "\n",
    "forecast = fmodel.predict(future)"
   ]
  },
  {
   "cell_type": "code",
   "execution_count": null,
   "metadata": {},
   "outputs": [],
   "source": [
    "fmodel.plot(forecast)\n"
   ]
  },
  {
   "cell_type": "code",
   "execution_count": null,
   "metadata": {},
   "outputs": [],
   "source": [
    "fmodel.plot_components(forecast)\n"
   ]
  },
  {
   "cell_type": "code",
   "execution_count": null,
   "metadata": {},
   "outputs": [],
   "source": [
    "\n",
    "#TS_FULL\n",
    "\n",
    "fmodel1 = Prophet()\n",
    "\n",
    "fmodel1.fit(ts_full)\n",
    "future1 = fmodel1.make_future_dataframe(periods=365)\n",
    "\n",
    "forecast1 = fmodel1.predict(future1)\n",
    "In [60]:\n",
    "fmodel1.plot(forecast1)"
   ]
  },
  {
   "cell_type": "code",
   "execution_count": null,
   "metadata": {},
   "outputs": [],
   "source": [
    "#Оценим качество прогноза с помощью MSE, MAE и r^2-score.\n",
    "\n",
    "# from sklearn.metrics import r2_score, mean_absolute_error, mean_squared_error\n",
    "\n",
    "def make_comparison_dataframe(historical, forecast):\n",
    "    \"\"\"Join the history with the forecast.\n",
    "    \n",
    "       The resulting dataset will contain columns 'yhat', 'yhat_lower', 'yhat_upper' and 'y'.\n",
    "    \"\"\"\n",
    "    return forecast.set_index('ds')[['yhat', 'yhat_lower', 'yhat_upper']].join(historical.set_index('ds'))\n",
    "cmp_df  = make_comparison_dataframe(ts_no_outs, forecast)\n",
    "import numpy as np\n",
    "cmp_df['e'] = cmp_df['y'] - cmp_df['yhat']\n",
    "cmp_df['p'] = 100*cmp_df['e']/cmp_df['y']\n",
    "print('MSE {}'.format(np.mean(abs(cmp_df[datetime(2015,1,1):]['p']))))\n",
    "print('MAE {}'.format(np.mean(abs(cmp_df[datetime(2015,1,1):]['e']))))"
   ]
  },
  {
   "cell_type": "code",
   "execution_count": null,
   "metadata": {},
   "outputs": [],
   "source": [
    "fmodel.plot(forecast)\n"
   ]
  },
  {
   "cell_type": "code",
   "execution_count": null,
   "metadata": {},
   "outputs": [],
   "source": [
    "fmodel1.plot(forecast1)\n"
   ]
  },
  {
   "cell_type": "code",
   "execution_count": 2,
   "metadata": {},
   "outputs": [
    {
     "ename": "NameError",
     "evalue": "name 'ts_full' is not defined",
     "output_type": "error",
     "traceback": [
      "\u001b[1;31m---------------------------------------------------------------------------\u001b[0m",
      "\u001b[1;31mNameError\u001b[0m                                 Traceback (most recent call last)",
      "\u001b[1;32m<ipython-input-2-4aa6d05099f5>\u001b[0m in \u001b[0;36m<module>\u001b[1;34m\u001b[0m\n\u001b[0;32m      1\u001b[0m \u001b[1;31m#Создадим копию ts_copy ряда ts_full и заменим в ней значения с 2010-01-01 по 2011-01-01 на None.\u001b[0m\u001b[1;33m\u001b[0m\u001b[1;33m\u001b[0m\u001b[1;33m\u001b[0m\u001b[0m\n\u001b[0;32m      2\u001b[0m \u001b[1;33m\u001b[0m\u001b[0m\n\u001b[1;32m----> 3\u001b[1;33m \u001b[0mts_copy\u001b[0m \u001b[1;33m=\u001b[0m \u001b[0mts_full\u001b[0m\u001b[1;33m.\u001b[0m\u001b[0mcopy\u001b[0m\u001b[1;33m(\u001b[0m\u001b[1;33m)\u001b[0m\u001b[1;33m\u001b[0m\u001b[1;33m\u001b[0m\u001b[0m\n\u001b[0m\u001b[0;32m      4\u001b[0m \u001b[0mts_copy\u001b[0m\u001b[1;33m[\u001b[0m\u001b[1;34m'y'\u001b[0m\u001b[1;33m]\u001b[0m\u001b[1;33m[\u001b[0m\u001b[0mdatetime\u001b[0m\u001b[1;33m(\u001b[0m\u001b[1;36m2010\u001b[0m\u001b[1;33m,\u001b[0m\u001b[1;36m1\u001b[0m\u001b[1;33m,\u001b[0m\u001b[1;36m1\u001b[0m\u001b[1;33m)\u001b[0m\u001b[1;33m:\u001b[0m\u001b[0mdatetime\u001b[0m\u001b[1;33m(\u001b[0m\u001b[1;36m2011\u001b[0m\u001b[1;33m,\u001b[0m\u001b[1;36m1\u001b[0m\u001b[1;33m,\u001b[0m\u001b[1;36m1\u001b[0m\u001b[1;33m)\u001b[0m\u001b[1;33m]\u001b[0m \u001b[1;33m=\u001b[0m \u001b[1;32mNone\u001b[0m\u001b[1;33m\u001b[0m\u001b[1;33m\u001b[0m\u001b[0m\n\u001b[0;32m      5\u001b[0m \u001b[0mts_copy\u001b[0m\u001b[1;33m[\u001b[0m\u001b[0mdatetime\u001b[0m\u001b[1;33m(\u001b[0m\u001b[1;36m2010\u001b[0m\u001b[1;33m,\u001b[0m\u001b[1;36m1\u001b[0m\u001b[1;33m,\u001b[0m\u001b[1;36m1\u001b[0m\u001b[1;33m)\u001b[0m\u001b[1;33m:\u001b[0m\u001b[0mdatetime\u001b[0m\u001b[1;33m(\u001b[0m\u001b[1;36m2011\u001b[0m\u001b[1;33m,\u001b[0m\u001b[1;36m1\u001b[0m\u001b[1;33m,\u001b[0m\u001b[1;36m1\u001b[0m\u001b[1;33m)\u001b[0m\u001b[1;33m]\u001b[0m\u001b[1;33m\u001b[0m\u001b[1;33m\u001b[0m\u001b[0m\n",
      "\u001b[1;31mNameError\u001b[0m: name 'ts_full' is not defined"
     ]
    }
   ],
   "source": [
    "#Создадим копию ts_copy ряда ts_full и заменим в ней значения с 2010-01-01 по 2011-01-01 на None.\n",
    "\n",
    "ts_copy = ts_full.copy()\n",
    "ts_copy['y'][datetime(2010,1,1):datetime(2011,1,1)] = None\n",
    "ts_copy[datetime(2010,1,1):datetime(2011,1,1)]"
   ]
  },
  {
   "cell_type": "code",
   "execution_count": null,
   "metadata": {},
   "outputs": [],
   "source": [
    "fmodel2 = Prophet()\n",
    "\n",
    "fmodel2.fit(ts_copy)\n",
    "future2 = fmodel2.make_future_dataframe(periods=365)\n",
    "\n",
    "forecast2 = fmodel2.predict(future2)\n",
    "fmodel2.plot(forecast2)"
   ]
  },
  {
   "cell_type": "code",
   "execution_count": null,
   "metadata": {},
   "outputs": [],
   "source": [
    "cmp_df  = make_comparison_dataframe(ts_copy, forecast2)\n",
    "\n",
    "cmp_df['e'] = cmp_df['y'] - cmp_df['yhat']\n",
    "cmp_df['p'] = 100*cmp_df['e']/cmp_df['y']\n",
    "print('MSE {}'.format(np.mean(abs(cmp_df[datetime(2015,1,1):]['p']))))\n",
    "print('MAE {}'.format(np.mean(abs(cmp_df[datetime(2015,1,1):]['e']))))"
   ]
  },
  {
   "cell_type": "markdown",
   "metadata": {},
   "source": [
    "MSE было 9.171853243470927, а стало 11.15781712755453, алгоритм хуже предсказывает. Добавим информации о выходных дняx"
   ]
  },
  {
   "cell_type": "code",
   "execution_count": null,
   "metadata": {},
   "outputs": [],
   "source": [
    "saturday  = pd.DataFrame({\n",
    "  'holiday': 'saturday',\n",
    "  'ds': ts.loc[ts.index.weekday == 5].ds\n",
    "})\n",
    "\n",
    "\n",
    "sunday  = pd.DataFrame({\n",
    "  'holiday': 'sunday',\n",
    "  'ds': ts.loc[ts.index.weekday == 6].ds\n",
    "})\n",
    "fmodel2.plot_components(forecast2)"
   ]
  },
  {
   "cell_type": "code",
   "execution_count": null,
   "metadata": {},
   "outputs": [],
   "source": [
    "Прогноз на год вперед c учетом выходных дней \n",
    "\n",
    "ts_copy = ts_full.copy()\n",
    "ts_copy['y'][datetime(2011,1,1):datetime(2012,1,1)] = None\n",
    "ts_copy[datetime(2011,1,1):datetime(2012,1,1)]"
   ]
  },
  {
   "cell_type": "code",
   "execution_count": null,
   "metadata": {},
   "outputs": [],
   "source": [
    "fmodel4 = Prophet()\n",
    "fmodel4.fit(ts_copy)\n",
    "future4 = fmodel2.make_future_dataframe(periods=365)\n",
    "forecast4 = fmodel4.predict(future4)\n",
    "fmodel4.plot(forecast4)"
   ]
  },
  {
   "cell_type": "code",
   "execution_count": null,
   "metadata": {},
   "outputs": [],
   "source": [
    "fmodel4 = Prophet()\n",
    "fmodel4.fit(ts_copy)\n",
    "future4 = fmodel2.make_future_dataframe(periods=365)\n",
    "forecast4 = fmodel4.predict(future4)\n",
    "In [73]:\n",
    "fmodel4.plot(forecast4)"
   ]
  },
  {
   "cell_type": "markdown",
   "metadata": {},
   "source": [
    "MSE было 11.15781712755453, а стало 11.227507141252778, cредняя ошибка возросла при пропущенных данных, алгоритм стал хуже предсказывать."
   ]
  }
 ],
 "metadata": {
  "kernelspec": {
   "display_name": "Python 3",
   "language": "python",
   "name": "python3"
  },
  "language_info": {
   "codemirror_mode": {
    "name": "ipython",
    "version": 3
   },
   "file_extension": ".py",
   "mimetype": "text/x-python",
   "name": "python",
   "nbconvert_exporter": "python",
   "pygments_lexer": "ipython3",
   "version": "3.7.3"
  }
 },
 "nbformat": 4,
 "nbformat_minor": 2
}
